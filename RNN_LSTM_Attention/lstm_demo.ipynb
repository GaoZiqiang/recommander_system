{
 "cells": [
  {
   "cell_type": "code",
   "execution_count": 2,
   "id": "corporate-soccer",
   "metadata": {},
   "outputs": [],
   "source": [
    "import torch\n",
    "import torch.nn as nn\n",
    "import torch.nn.functional as F\n",
    "import torch.optim as optim"
   ]
  },
  {
   "cell_type": "code",
   "execution_count": 3,
   "id": "portable-awareness",
   "metadata": {},
   "outputs": [
    {
     "data": {
      "text/plain": [
       "<torch._C.Generator at 0x7fee887d1cd8>"
      ]
     },
     "execution_count": 3,
     "metadata": {},
     "output_type": "execute_result"
    }
   ],
   "source": [
    "torch.manual_seed(1)"
   ]
  },
  {
   "cell_type": "code",
   "execution_count": 80,
   "id": "endless-missile",
   "metadata": {},
   "outputs": [
    {
     "data": {
      "text/plain": [
       "tensor([[-0.0114,  0.6726, -0.6892]])"
      ]
     },
     "execution_count": 80,
     "metadata": {},
     "output_type": "execute_result"
    }
   ],
   "source": [
    "lstm = nn.LSTM(3, 3)  # Input dim is 3, output/h0 dim is 3\n",
    "inputs = [torch.randn(1, 3) for _ in range(5)]  # make a sequence of length 5 input dim is [5,1,3] [seq,batch,feature]\n",
    "inputs[0]"
   ]
  },
  {
   "cell_type": "code",
   "execution_count": 29,
   "id": "overhead-movement",
   "metadata": {},
   "outputs": [
    {
     "data": {
      "text/plain": [
       "(tensor([[[-0.1423,  1.7084, -1.1981]]]),\n",
       " tensor([[[ 0.7044,  0.3299, -1.1728]]]))"
      ]
     },
     "execution_count": 29,
     "metadata": {},
     "output_type": "execute_result"
    }
   ],
   "source": [
    "# initialize the hidden state.\n",
    "hidden = (torch.randn(1, 1, 3),\n",
    "          torch.randn(1, 1, 3))\n",
    "hidden"
   ]
  },
  {
   "cell_type": "code",
   "execution_count": 35,
   "id": "digital-lobby",
   "metadata": {},
   "outputs": [
    {
     "name": "stdout",
     "output_type": "stream",
     "text": [
      "out: torch.Size([1, 1, 3])\n",
      "hidden: torch.Size([1, 1, 3])\n",
      "out: torch.Size([1, 1, 3])\n",
      "hidden: torch.Size([1, 1, 3])\n",
      "out: torch.Size([1, 1, 3])\n",
      "hidden: torch.Size([1, 1, 3])\n",
      "out: torch.Size([1, 1, 3])\n",
      "hidden: torch.Size([1, 1, 3])\n",
      "out: torch.Size([1, 1, 3])\n",
      "hidden: torch.Size([1, 1, 3])\n"
     ]
    }
   ],
   "source": [
    "### 每次单个元素输入\n",
    "for i in inputs:\n",
    "    # Step through the sequence one element at a time.\n",
    "    # after each step, hidden contains the hidden state.\n",
    "    out, hidden = lstm(i.view(1, 1, -1), hidden)\n",
    "    print(\"out:\",out.shape)\n",
    "    print(\"hidden:\",hidden[0].shape)"
   ]
  },
  {
   "cell_type": "code",
   "execution_count": 122,
   "id": "square-essex",
   "metadata": {},
   "outputs": [],
   "source": [
    "### 整体输入\n",
    "# inputs = torch.cat((inputs[0],inputs[1],inputs[2]),1)\n",
    "inputs = [torch.randn(1, 3) for _ in range(5)]  # make a sequence of length 5 input dim is [5,1,3] [seq,batch,feature]\n",
    "inputs = torch.cat((inputs[0],inputs[1],inputs[2],inputs[3],inputs[4]),0)\n",
    "inputs = inputs.view(len(inputs), 1, -1)# 此时inputs为[5,1,3]\n",
    "### 注意：LSTM的hidden包括两部分h0和c0\n",
    "h0 = torch.randn(1, 1, 3)# clean out hidden state\n",
    "c0 = torch.randn(1, 1, 3)\n"
   ]
  },
  {
   "cell_type": "code",
   "execution_count": 127,
   "id": "marine-coverage",
   "metadata": {},
   "outputs": [
    {
     "data": {
      "text/plain": [
       "torch.Size([1, 1, 3])"
      ]
     },
     "execution_count": 127,
     "metadata": {},
     "output_type": "execute_result"
    }
   ],
   "source": [
    "lstm = nn.LSTM(input_size=3,hidden_size=3,num_layers=1)\n",
    "out, (hn,cn) = lstm(inputs,(h0,c0))# 使用默认hidden\n",
    "out.shape\n",
    "# hidden[0].shape\n",
    "# hidden[1].shape\n",
    "hn.shape\n",
    "cn.shape"
   ]
  }
 ],
 "metadata": {
  "kernelspec": {
   "display_name": "Python 3",
   "language": "python",
   "name": "python3"
  },
  "language_info": {
   "codemirror_mode": {
    "name": "ipython",
    "version": 3
   },
   "file_extension": ".py",
   "mimetype": "text/x-python",
   "name": "python",
   "nbconvert_exporter": "python",
   "pygments_lexer": "ipython3",
   "version": "3.6.2"
  }
 },
 "nbformat": 4,
 "nbformat_minor": 5
}
